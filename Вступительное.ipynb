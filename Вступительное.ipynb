{
 "cells": [
  {
   "cell_type": "markdown",
   "metadata": {},
   "source": [
    "# Вступительное задание в магистратуру НИЯУ МИФИ и Simulative. Лещук Дмитрий"
   ]
  },
  {
   "cell_type": "markdown",
   "metadata": {},
   "source": [
    "## Описание кейса\n",
    "Представьте, что вы работаете аналитиком в компании, которая продает сервис для аналитики, которым пользуются селлеры на маркетплейсах. \n",
    "\n",
    "Основная воронка продаж выглядит следующим образом:\n",
    "\n",
    "1) Потенциальный клиент видит рекламу ВКонтакте, что скоро пройдет вебинар на актуальную тему (например, “Как селлеру увеличить выручку с помощью аналитики”)\n",
    "2) Человек кликает на рекламу и переходит на сайт компании\n",
    "3) Если ему понравилось описание вебинара - он заполняет форму на сайте и регистрируется на вебинар\n",
    "4) После заполнения формы его редиректит в Telegram-бота, куда приходят все подробности про вебинар (например, ссылка для подключения к трансляции)\n",
    "5) Спустя какое-то время в бота приходит ссылка и человек может подключиться к трансляции \n",
    "6) Во время вебинара эксперт рассказывает полезный контент и продает сервис, рассказывая про его функционал и предлагает скидку\n",
    "7) Часть людей нажимает на кнопку во время вебинара и оставляет заявку на бронь скидки\n",
    "8) С ними связывается менеджер и они вносят оплату\n",
    "9) Подписка ежемесячная, поэтому далее менеджер ежемесячно связывается с клиентами и выставляет счет на продление подписки"
   ]
  },
  {
   "cell_type": "markdown",
   "metadata": {},
   "source": [
    "## Задание\n"
   ]
  },
  {
   "cell_type": "markdown",
   "metadata": {},
   "source": [
    "### 1) Маркетологи посчитали конверсию из регистраций на вебинар в оставление заявки во время вебинара и она получилась очень низкая. Напишите несколько гипотез - с чем это может быть связано и как с этим можно работать? "
   ]
  },
  {
   "cell_type": "markdown",
   "metadata": {},
   "source": [
    "Подсегмент воронки выглядит следующим образом: 1) Заполнить форму регистрации -> 2) Зайти в бота -> 3) Через время получить оповещение от бота и кликнуть по ссылке вебинара -> 4) Досмотреть вебинар до этапа, где предлагают скидку -> 5) Оставить заявку на скидку. Рассмотрим его поэтапно.\n",
    "\n",
    "1. Между этапами 1-2 может произойти техническая проблема: если наш целевой клиент не авторизован в данный момент в телеграме и оставил не полностью верные контактные данные, он может просто не попасть в бота (редирект не произошел в моменте, пуш от бота по контактным данным клиента не догнал). Возможно, стоит вшить автоматический сценарий проверки данных (регистрация заполнена -> человек подписан на бота), поставить процесс \"оповестить клиентов по e-mail, если они заявку оставляли, но на бота почему-то не подписаны\". Это низкозатратное решение (1 раз написать сценарий), которое оправдано, если реально конверсия из заполнения формы в подписку на бота не 100%.\n",
    "\n",
    "2. В ситуации с переходом в вебинар пункт (3) ситуация двоякая. Может возникнуть две противоположные ситуации: 1) клиента перепушили сообщениями от бота и он решил не идти на вебинар (у меня был такой кейс, я регистрировался на вебинар и получил 20 сообщений за 2 дня, я просто забанил бота и не стал отвечать на звонки менеджера по продажам); 2) клиента недопушили сообщениями и он забыл про вебинар. Здесь надо смотреть на данные по перегретости клиента сообщениями (можно построить индикатор перегретости, я делал такой по logit-модели с open-rate, click-rate), если клиент не перегрет, аккуратно его пушить напоминаниями о вебинаре и доп. информацией (не продающей, а экспертной, продажа на следующем этапе воронки), если клиент перегрет, то наоборот просто ссылку в установленное время.\n",
    "\n",
    "3. Переход 3) - 4) если клиент зашел на вебинар, но у него возникли технические проблемы, он может просто сразу же покинуть вебинар. Можно настроить менеджеру вебинара трекер \"перешел по ссылке - ушел с трансляции\", чтоб он догонял лично таких людей: не все люди, столкнувшиеся с техническими проблемами, напишут об этом. Аудитория может быть холодно настроена к вебинару, пока не послушает самого спикера.\n",
    "\n",
    "4. Не все досматривают вебинар до места, где спикер предлагает скидку. Тут нужно смотреть на метрики доходимости и выдвинуть ряд продуктовых гипотез к спикеру: 1) достаточно ли спикер работает с аудиторией, есть ли вовлечение от нее? Возможно, добавить больше интерактивного содержания. 2) хорошо ли структурирован материал? 3) понятна ли клиенту ценность получаемой информации для его деятельности (логическая связка \"техническая информация\" - \"потребность бизнеса\") 4) говорит ли спикер увлекательно, поставлена ли у него речь?. Это все можно проверить опросниками после вебинара или фокус-группами и поработать над структурой экспертного материала и формой подачи со спикером.\n",
    "\n",
    "5. Оставить заявку на скидку. Тут может быть 2 истории для улучшения: \\\n",
    "A) **Ценностный оффер предложения и скидки**: \\\n",
    "понятно ли спикер доносит ценность сервиса для клиента? (проверить по опросу, если нет, улучшить); тот ли вообще продукт продвигает спикер, возможно можно сделать специальную модификацию тарифа под запросы участников вебинара (можно вообще до вебинара проверять у аудитории, какой продукт им мог бы быть полезен, но максимально ненавязчиво, и адаптировать продукт, который пушим на вебинаре, под запросы конкретной аудитории, так оффер будет более кастомизированным); понятно ли клиенту, что скидка дает ему доп. ценность: если клиент не верит, что эта скидка уникальная, он может просто отложить решение и вместо того, чтоб пойти дальше по воронке, вернуться к покупке тогда, когда ему будет якобы \"более актуально\". Такая ситуация возникнет, если мы постоянно перегреваем аудиторию акциями (раз в несколько месяцев \"ПОСЛЕДНИЙ ДЕНЬ СКИДКИ 50%\"), а человек знаком с нашей компанией. Тут уже вопрос, если другие акции работают по эффективности нормально, то может под конкретный канал продаж \"вебинары\" и не надо перелопачивать всю маркетинговую стратегию. Но если мы ставим эти скидки наобум и ценности от нашей скидки на вебинаре для клиента нет, то надо писать ценовую стратегию \"вот этому сегменту клиентов такой уникальный оффер, широкой аудитории такой оффер, раньше такого-то месяца в сезон через каналы коммуникации не пушим клиентов\". \\\n",
    "Б) **Удобство интерфейса оставления брони**: насколько бесшовно клиент может оставить заявку на бронь? Надо ли для этого открывать дополнительные вкладки? Все ли ок у нас с этой кнопкой в целом? Можно просто прокликать самостоятельно всю эту историю и понять, есть ли у нас технические проблемы. Если есть - попробовать улучшить интерфейс. \n",
    "\n",
    "Наконец, могут быть причины за пределами этой маркетинговой воронки: наши лиды, регистрирующиеся на вебинар, просто нецелевые. Это можно проверить по опросам до и после вебинара, по ощущению лектора (насколько вопросы участников вообще были похожи на вопросы от наших целевых клиентов). Если это так, то надо работать с описанием продукта на лендинге, чтоб он генерил целевых лидов, а не лидов, которые не сконвертятся в продукт. Подробнее писать про боли бизнеса, которые будут обсуждаться на вебинаре. Про то, каким ЛПР будет интересно посетить этот вебинар. "
   ]
  },
  {
   "cell_type": "markdown",
   "metadata": {},
   "source": [
    "### 2) Перед компанией сейчас стоит задача повышения эффективности и рентабельности маркетинга. Напишите несколько гипотез - какие улучшения на каких этапах воронки можно сделать, на какие метрики это будет влиять и почему от этого вырастет эффективность. Важно: этап с рекламой не трогайте, на это вы влиять не можете."
   ]
  },
  {
   "cell_type": "markdown",
   "metadata": {},
   "source": [
    "Подробный анализ почти всей воронки приведен в предыдущем пункте, поэтому здесь пойдем кратко. \n",
    "Воронка: 0) перейти по рекламе на сайт -> 1) прочитать статью на лендинге -> 2) начать заполнять форму -> 3) заполнить форму -> 4) перейти в бота -> 5) прочитать сообщение от бота о вебинаре и перейти по ссылке -> 6) досмотреть вебинар до этапа, где предлагают скидку -> 7) оставить заявку на скидку.\n",
    "\n",
    "0. На саму рекламу влиять не можем но: \\\n",
    "0.1) Проверить, оптимизирован ли сайт для захода из других стран или на него можно зайти только с русского IP. Если только с русского IP, попробовать оптимизировать сайт под иностранные IP.\n",
    "Предприниматели могут быть в командировках, отпусках, пользоваться VPN. Если у них не получилось зайти с первого раза, не факт, что они не отвалятся. Если проверить, что все ОК на этом этапе, то мы потенциально увеличиваем кол-во посетителей сайта, не тратя на это дополнительных денег. За счет увеличения начала воронки могут вырасти продажи и соответственно удельная эффективность рекламы на единицу затрат\n",
    "\n",
    "1. Прочитать статью на лендинге: \\\n",
    "1.1) Лендинг не написан на нашу целевую аудиторию. Выявить качественными методами запросы нашей ЦА к контенту, их бизнес-боли, модифицировать текст таким образом. \n",
    "Даже если упадет часть воронки \"дочитал текст до конца\", это не важно, если в итоге наши лиды не конвертятся в продажи. На этом этапе важно преподнести информацию так, чтоб к нам до вебинара дошли люди, которые реально могут что-то купить. Итоговая эффективность считается от финансового эффекта, а он будет выше, если целевых лидов (а не просто лидов) будет больше. \\\n",
    "1.2) Лендинг не оптимизирован для просмотра с различных устройств, мы теряем лидов. Если оптимизировать под различные OS и платформы, вырастет дочитатка до конца.\n",
    "Увеличиваем количество дочитавших, потенциально растет количество лидов -> больше денег при тех же затратах. Тут важно соблюсти баланс: оптимизировать только те платформы, которыми пользуется наша текущая и потенциальная ЦА. Не надо тратить деньги на оптимизацию платформ, с которых в продажи не конвертится никто.\n",
    "\n",
    "2. Заполнение формы: \\\n",
    "2.1) Форма слишком длинная и требует данные, которые быстро не ввести, либо требует данные, которые клиент предпочитает не оставлять. Проверить актуальность всей собираемой нами информации в форме (факт, а не в теории), то, что можно безболезненно убрать, сделать необязательным полем для заполнения или убрать.\n",
    "При прочих равных, повышается количество людей, проходящих дальше по воронке, и в конце концов количество заявок на бронь.\n",
    "\n",
    "3. Переход в телеграм-бота: \\\n",
    "3.1) Телеграм не является мессенджером, которым пользуется человек. Добавить опцию \"прислать ссылку на вебинар по почте\" отдельной галочкой.\n",
    "При прочих равных, повышается количество людей, проходящих дальше по воронке, и в конце концов количество заявок на бронь.\n",
    "\n",
    "4. Зайти на вебинар: \\\n",
    "4.1) Клиент перепушен уведомлениями и не читает их. \n",
    "Оптимизировать количество коммуникаций, чтоб клиент доходил по воронке дальше. Это повысит конверсию из подписки на телеграм-бота в заход на вебинар \\\n",
    "4.2) Клиент не получает информацию вовремя, т.к. мало коммуникаций. \n",
    "Повышать вовлечённость в вебинар информационным контентом до вебинара, но в меру, без продаж. Это повысит конверсию из подписки на телеграм-бота в заход на вебинар\n",
    "\n",
    "5) Досмотреть вебинар до появления брони на форму: \\\n",
    "5.1) У клиента технические проблемы с вебинаром, в тех. поддержку не сообщил.\n",
    "Настроить сценарий автоматических пушей \"видим что вы отключились от вебинара. Если у вас возникли проблемы, напишите о них\". Это повысит конверсию из открытия вебинара в досмотр его до момента заявки на бронь \\\n",
    "5.2) Лектор не доносит нужную информацию. \n",
    "Оценить релевантность информации по критериям, оптимизировать качество контента, это повысит конверсию из открытия вебинара в досмотр его до момента заявки на бронь \n",
    "\n",
    "6) Оставить заявку на бронь \\\n",
    "6.1) Форму заполнять сложно, для этого надо делать много дополнительных действий. Исправление формы увеличит конверсию из просмотра вебинара в бронь \\\n",
    "6.2) Аудитории вебинара продается не тот продукт, который им наиболее релевантен. Рассмотреть возможность сделать кастомизированный оффер (тариф) под данную ЦА, с опорой на кастдев данные о болях данной аудитории. Кастомизация оффера увеличит конверсию из просмотра вебинара в бронь   \\\n",
    "6.3) Скидка не отличается от всех остальных скидок, которые мы пушим через другие каналы, поэтому клиент не понимает, в чем ценность заполнения данной формы вообще. Оптимизировать календарь маркетинговых коммуникаций, это предотвратит размытие ценности скидки для клиента, повысит конверсию из просмотра вебинара в бронь"
   ]
  },
  {
   "cell_type": "markdown",
   "metadata": {},
   "source": [
    "### 3) Вам дан набор данных по части воронки:\n",
    "\n",
    "Пользователь зашел в тг-бота\n",
    "Пользователь подключился к вебинару\n",
    "Пользователь отключился от вебинара\n",
    "Пользователь оставил заявку\n",
    "Ссылка на данные: https://disk.yandex.ru/d/eFDvKwV0QWuWeg \n",
    "Напишите код на Python (или другом языке программирования) и проведите небольшое исследование: какие точки роста вы видите на этих этапах воронки? Что можно улучшить, на какие метрики нужно влиять и каким образом? \n",
    "\n",
    "Исследование можете провести в произвольной форме. Приветствуются расчеты, графики и выводы. "
   ]
  },
  {
   "cell_type": "code",
   "execution_count": 121,
   "metadata": {},
   "outputs": [],
   "source": [
    "import pandas as pd\n",
    "import numpy as np\n",
    "import requests\n",
    "import seaborn as sns\n",
    "import matplotlib.pyplot as plt\n",
    "from scipy.stats import mannwhitneyu\n"
   ]
  },
  {
   "cell_type": "markdown",
   "metadata": {},
   "source": [
    "#### Загрузка данных"
   ]
  },
  {
   "cell_type": "code",
   "execution_count": 4,
   "metadata": {},
   "outputs": [],
   "source": [
    "# Приведем ссылку к виду, доступному для скачивания\n",
    "public_key = \"https://disk.yandex.ru/d/eFDvKwV0QWuWeg\"\n",
    "api_url = \"https://cloud-api.yandex.net/v1/disk/public/resources/download\"\n",
    "params = {'public_key': public_key}"
   ]
  },
  {
   "cell_type": "code",
   "execution_count": 5,
   "metadata": {},
   "outputs": [],
   "source": [
    "# Загрузим csv файл\n",
    "response = requests.get(api_url, params=params)\n",
    "download_url = response.json()['href']"
   ]
  },
  {
   "cell_type": "code",
   "execution_count": 6,
   "metadata": {},
   "outputs": [
    {
     "data": {
      "text/html": [
       "<div>\n",
       "<style scoped>\n",
       "    .dataframe tbody tr th:only-of-type {\n",
       "        vertical-align: middle;\n",
       "    }\n",
       "\n",
       "    .dataframe tbody tr th {\n",
       "        vertical-align: top;\n",
       "    }\n",
       "\n",
       "    .dataframe thead th {\n",
       "        text-align: right;\n",
       "    }\n",
       "</style>\n",
       "<table border=\"1\" class=\"dataframe\">\n",
       "  <thead>\n",
       "    <tr style=\"text-align: right;\">\n",
       "      <th></th>\n",
       "      <th>user_id</th>\n",
       "      <th>action</th>\n",
       "      <th>created_at</th>\n",
       "    </tr>\n",
       "  </thead>\n",
       "  <tbody>\n",
       "    <tr>\n",
       "      <th>0</th>\n",
       "      <td>1</td>\n",
       "      <td>enter_bot</td>\n",
       "      <td>09.05.2025 9:38</td>\n",
       "    </tr>\n",
       "    <tr>\n",
       "      <th>1</th>\n",
       "      <td>1</td>\n",
       "      <td>enter_webinar_room</td>\n",
       "      <td>09.05.2025 19:06</td>\n",
       "    </tr>\n",
       "    <tr>\n",
       "      <th>2</th>\n",
       "      <td>1</td>\n",
       "      <td>leave_webinar_room</td>\n",
       "      <td>09.05.2025 19:59</td>\n",
       "    </tr>\n",
       "    <tr>\n",
       "      <th>3</th>\n",
       "      <td>2</td>\n",
       "      <td>enter_bot</td>\n",
       "      <td>01.05.2025 14:53</td>\n",
       "    </tr>\n",
       "    <tr>\n",
       "      <th>4</th>\n",
       "      <td>3</td>\n",
       "      <td>enter_bot</td>\n",
       "      <td>04.05.2025 11:24</td>\n",
       "    </tr>\n",
       "  </tbody>\n",
       "</table>\n",
       "</div>"
      ],
      "text/plain": [
       "   user_id              action        created_at\n",
       "0        1           enter_bot   09.05.2025 9:38\n",
       "1        1  enter_webinar_room  09.05.2025 19:06\n",
       "2        1  leave_webinar_room  09.05.2025 19:59\n",
       "3        2           enter_bot  01.05.2025 14:53\n",
       "4        3           enter_bot  04.05.2025 11:24"
      ]
     },
     "execution_count": 6,
     "metadata": {},
     "output_type": "execute_result"
    }
   ],
   "source": [
    "# Прочитаем файл в pandas и проверим, что он считался корректно\n",
    "df = pd.read_csv(download_url, sep=';')\n",
    "df.head() "
   ]
  },
  {
   "cell_type": "markdown",
   "metadata": {},
   "source": [
    "#### Предобработка и разведочный анализ данных"
   ]
  },
  {
   "cell_type": "code",
   "execution_count": 7,
   "metadata": {},
   "outputs": [
    {
     "data": {
      "text/plain": [
       "user_id        int64\n",
       "action        object\n",
       "created_at    object\n",
       "dtype: object"
      ]
     },
     "execution_count": 7,
     "metadata": {},
     "output_type": "execute_result"
    }
   ],
   "source": [
    "df.dtypes"
   ]
  },
  {
   "cell_type": "code",
   "execution_count": 8,
   "metadata": {},
   "outputs": [],
   "source": [
    "#Переводим колонку с временем и датой в нужный формат\n",
    "df['created_at'] = pd.to_datetime(df['created_at'], format = '%d.%m.%Y %H:%M')"
   ]
  },
  {
   "cell_type": "code",
   "execution_count": 9,
   "metadata": {},
   "outputs": [
    {
     "name": "stdout",
     "output_type": "stream",
     "text": [
      "1000 1 1000\n"
     ]
    }
   ],
   "source": [
    "#Проверяем колонку с айдишниками\n",
    "print(df.user_id.nunique(), df.user_id.min(), df.user_id.max())"
   ]
  },
  {
   "cell_type": "code",
   "execution_count": 10,
   "metadata": {},
   "outputs": [
    {
     "data": {
      "text/html": [
       "<div>\n",
       "<style scoped>\n",
       "    .dataframe tbody tr th:only-of-type {\n",
       "        vertical-align: middle;\n",
       "    }\n",
       "\n",
       "    .dataframe tbody tr th {\n",
       "        vertical-align: top;\n",
       "    }\n",
       "\n",
       "    .dataframe thead th {\n",
       "        text-align: right;\n",
       "    }\n",
       "</style>\n",
       "<table border=\"1\" class=\"dataframe\">\n",
       "  <thead>\n",
       "    <tr style=\"text-align: right;\">\n",
       "      <th></th>\n",
       "      <th>action</th>\n",
       "      <th>user_id</th>\n",
       "    </tr>\n",
       "  </thead>\n",
       "  <tbody>\n",
       "    <tr>\n",
       "      <th>0</th>\n",
       "      <td>enter_bot</td>\n",
       "      <td>1188</td>\n",
       "    </tr>\n",
       "    <tr>\n",
       "      <th>1</th>\n",
       "      <td>enter_webinar_room</td>\n",
       "      <td>457</td>\n",
       "    </tr>\n",
       "    <tr>\n",
       "      <th>2</th>\n",
       "      <td>leave_webinar_room</td>\n",
       "      <td>457</td>\n",
       "    </tr>\n",
       "    <tr>\n",
       "      <th>3</th>\n",
       "      <td>make_order</td>\n",
       "      <td>18</td>\n",
       "    </tr>\n",
       "  </tbody>\n",
       "</table>\n",
       "</div>"
      ],
      "text/plain": [
       "               action  user_id\n",
       "0           enter_bot     1188\n",
       "1  enter_webinar_room      457\n",
       "2  leave_webinar_room      457\n",
       "3          make_order       18"
      ]
     },
     "execution_count": 10,
     "metadata": {},
     "output_type": "execute_result"
    }
   ],
   "source": [
    "#Смотрим, какие уникальные значения есть у action и как часто они встречаются\n",
    "df.groupby('action', as_index = False).agg({'user_id': 'count'})"
   ]
  },
  {
   "cell_type": "code",
   "execution_count": 11,
   "metadata": {},
   "outputs": [
    {
     "data": {
      "text/plain": [
       "user_id       0\n",
       "action        0\n",
       "created_at    0\n",
       "dtype: int64"
      ]
     },
     "execution_count": 11,
     "metadata": {},
     "output_type": "execute_result"
    }
   ],
   "source": [
    "#Проверяем наличие n/a\n",
    "df.isna().sum()"
   ]
  },
  {
   "cell_type": "markdown",
   "metadata": {},
   "source": [
    "#### 1. Верхнеуровневый анализ воронки"
   ]
  },
  {
   "cell_type": "code",
   "execution_count": 23,
   "metadata": {},
   "outputs": [
    {
     "data": {
      "text/html": [
       "<div>\n",
       "<style scoped>\n",
       "    .dataframe tbody tr th:only-of-type {\n",
       "        vertical-align: middle;\n",
       "    }\n",
       "\n",
       "    .dataframe tbody tr th {\n",
       "        vertical-align: top;\n",
       "    }\n",
       "\n",
       "    .dataframe thead th {\n",
       "        text-align: right;\n",
       "    }\n",
       "</style>\n",
       "<table border=\"1\" class=\"dataframe\">\n",
       "  <thead>\n",
       "    <tr style=\"text-align: right;\">\n",
       "      <th></th>\n",
       "      <th>action</th>\n",
       "      <th>user_id</th>\n",
       "      <th>share</th>\n",
       "    </tr>\n",
       "  </thead>\n",
       "  <tbody>\n",
       "    <tr>\n",
       "      <th>0</th>\n",
       "      <td>enter_bot</td>\n",
       "      <td>1000</td>\n",
       "      <td>1.000</td>\n",
       "    </tr>\n",
       "    <tr>\n",
       "      <th>1</th>\n",
       "      <td>enter_webinar_room</td>\n",
       "      <td>382</td>\n",
       "      <td>0.382</td>\n",
       "    </tr>\n",
       "    <tr>\n",
       "      <th>2</th>\n",
       "      <td>leave_webinar_room</td>\n",
       "      <td>382</td>\n",
       "      <td>0.382</td>\n",
       "    </tr>\n",
       "    <tr>\n",
       "      <th>3</th>\n",
       "      <td>make_order</td>\n",
       "      <td>18</td>\n",
       "      <td>0.018</td>\n",
       "    </tr>\n",
       "  </tbody>\n",
       "</table>\n",
       "</div>"
      ],
      "text/plain": [
       "               action  user_id  share\n",
       "0           enter_bot     1000  1.000\n",
       "1  enter_webinar_room      382  0.382\n",
       "2  leave_webinar_room      382  0.382\n",
       "3          make_order       18  0.018"
      ]
     },
     "execution_count": 23,
     "metadata": {},
     "output_type": "execute_result"
    }
   ],
   "source": [
    "#Создаем файл для работы с конверсиями\n",
    "conversion = df.groupby('action', as_index=False).agg({'user_id': 'nunique'})\n",
    "conversion['share'] = conversion['user_id'] / 1000\n",
    "conversion"
   ]
  },
  {
   "cell_type": "code",
   "execution_count": 46,
   "metadata": {},
   "outputs": [],
   "source": [
    "c_reg_web = conversion.query('action == \"enter_webinar_room\"')['share'].values[0]\n",
    "c_web_order = conversion.query('action == \"make_order\"')['share'].values[0]/conversion.query('action == \"enter_webinar_room\"')['share'].values[0]\n",
    "c_reg_order = c_reg_web * c_web_order"
   ]
  },
  {
   "cell_type": "code",
   "execution_count": 47,
   "metadata": {},
   "outputs": [
    {
     "name": "stdout",
     "output_type": "stream",
     "text": [
      "Зашло в бота: 1000 чел.\n",
      "Конверсия из регистрации в открытие вебинара:  0.38\n",
      "Конверсия из вебинара в заказ:  0.05\n",
      "Конверсия из регистрации в заказ:  0.02\n"
     ]
    }
   ],
   "source": [
    "print('Зашло в бота:', conversion.query('action == \"enter_bot\"').user_id[0], 'чел.', sep=' ')\n",
    "print('Конверсия из регистрации в открытие вебинара: ',  f'{c_reg_web:.2f}', sep=' ')\n",
    "print('Конверсия из вебинара в заказ: ',  f'{c_web_order:.2f}', sep=' ')\n",
    "print('Конверсия из регистрации в заказ: ',  f'{c_reg_order:.2f}', sep=' ')"
   ]
  },
  {
   "cell_type": "markdown",
   "metadata": {},
   "source": [
    "Мы видим, что наиболее сильно проседает конверсия из вебинара в заказ. Учитывая, что воронку в маркетинге принято расшивать с конца (нет смысла тратить кучу денег, заливая лидов в неотлаженную воронку на последующих этапах), компании важно сфокусироваться на том, чтобы посетители вебинара чаще конвертировались в заявки.\n",
    "С другой стороны, зайти на вебинар намного более безобидное для аудитории действие, чем купить продукт. Возможно, конверсия из регистрации в заказ 2% и нормальная для рынка, требуется уточняющий анализ."
   ]
  },
  {
   "cell_type": "markdown",
   "metadata": {},
   "source": [
    "#### 2. Заход в бота -> заход в вебинар"
   ]
  },
  {
   "cell_type": "code",
   "execution_count": 80,
   "metadata": {},
   "outputs": [
    {
     "name": "stdout",
     "output_type": "stream",
     "text": [
      "      user_id              action  action_count time_span\n",
      "0           1           enter_bot             1    0 days\n",
      "1           1  enter_webinar_room             1    0 days\n",
      "2           1  leave_webinar_room             1    0 days\n",
      "3           2           enter_bot             1    0 days\n",
      "4           3           enter_bot             1    0 days\n",
      "...       ...                 ...           ...       ...\n",
      "1777      999           enter_bot             1    0 days\n",
      "1778     1000           enter_bot             1    0 days\n",
      "1779     1000  enter_webinar_room             1    0 days\n",
      "1780     1000  leave_webinar_room             1    0 days\n",
      "1781     1000          make_order             1    0 days\n",
      "\n",
      "[1782 rows x 4 columns]\n"
     ]
    }
   ],
   "source": [
    "# Посчитаем для каждого действия каждого пользователя количество совершенных действий этого типа и промежуток времени между совершением этих действий\n",
    "user_action_stats = df.groupby(['user_id', 'action']).agg(\n",
    "    action_count=('action', 'count'),\n",
    "    time_span=('created_at', lambda x: x.max() - x.min())\n",
    ").reset_index()\n",
    "\n",
    "print(user_action_stats)"
   ]
  },
  {
   "cell_type": "code",
   "execution_count": 86,
   "metadata": {},
   "outputs": [
    {
     "data": {
      "text/html": [
       "<div>\n",
       "<style scoped>\n",
       "    .dataframe tbody tr th:only-of-type {\n",
       "        vertical-align: middle;\n",
       "    }\n",
       "\n",
       "    .dataframe tbody tr th {\n",
       "        vertical-align: top;\n",
       "    }\n",
       "\n",
       "    .dataframe thead th {\n",
       "        text-align: right;\n",
       "    }\n",
       "</style>\n",
       "<table border=\"1\" class=\"dataframe\">\n",
       "  <thead>\n",
       "    <tr style=\"text-align: right;\">\n",
       "      <th></th>\n",
       "      <th>user_id</th>\n",
       "      <th>action_count_enter_bot</th>\n",
       "      <th>action_count_enter_webinar_room</th>\n",
       "      <th>action_count_leave_webinar_room</th>\n",
       "      <th>action_count_make_order</th>\n",
       "    </tr>\n",
       "  </thead>\n",
       "  <tbody>\n",
       "    <tr>\n",
       "      <th>0</th>\n",
       "      <td>1</td>\n",
       "      <td>1.0</td>\n",
       "      <td>1.0</td>\n",
       "      <td>1.0</td>\n",
       "      <td>0.0</td>\n",
       "    </tr>\n",
       "    <tr>\n",
       "      <th>1</th>\n",
       "      <td>2</td>\n",
       "      <td>1.0</td>\n",
       "      <td>0.0</td>\n",
       "      <td>0.0</td>\n",
       "      <td>0.0</td>\n",
       "    </tr>\n",
       "    <tr>\n",
       "      <th>2</th>\n",
       "      <td>3</td>\n",
       "      <td>1.0</td>\n",
       "      <td>0.0</td>\n",
       "      <td>0.0</td>\n",
       "      <td>0.0</td>\n",
       "    </tr>\n",
       "    <tr>\n",
       "      <th>3</th>\n",
       "      <td>4</td>\n",
       "      <td>1.0</td>\n",
       "      <td>0.0</td>\n",
       "      <td>0.0</td>\n",
       "      <td>0.0</td>\n",
       "    </tr>\n",
       "    <tr>\n",
       "      <th>4</th>\n",
       "      <td>5</td>\n",
       "      <td>1.0</td>\n",
       "      <td>0.0</td>\n",
       "      <td>0.0</td>\n",
       "      <td>0.0</td>\n",
       "    </tr>\n",
       "    <tr>\n",
       "      <th>...</th>\n",
       "      <td>...</td>\n",
       "      <td>...</td>\n",
       "      <td>...</td>\n",
       "      <td>...</td>\n",
       "      <td>...</td>\n",
       "    </tr>\n",
       "    <tr>\n",
       "      <th>995</th>\n",
       "      <td>996</td>\n",
       "      <td>2.0</td>\n",
       "      <td>0.0</td>\n",
       "      <td>0.0</td>\n",
       "      <td>0.0</td>\n",
       "    </tr>\n",
       "    <tr>\n",
       "      <th>996</th>\n",
       "      <td>997</td>\n",
       "      <td>1.0</td>\n",
       "      <td>0.0</td>\n",
       "      <td>0.0</td>\n",
       "      <td>0.0</td>\n",
       "    </tr>\n",
       "    <tr>\n",
       "      <th>997</th>\n",
       "      <td>998</td>\n",
       "      <td>1.0</td>\n",
       "      <td>0.0</td>\n",
       "      <td>0.0</td>\n",
       "      <td>0.0</td>\n",
       "    </tr>\n",
       "    <tr>\n",
       "      <th>998</th>\n",
       "      <td>999</td>\n",
       "      <td>1.0</td>\n",
       "      <td>0.0</td>\n",
       "      <td>0.0</td>\n",
       "      <td>0.0</td>\n",
       "    </tr>\n",
       "    <tr>\n",
       "      <th>999</th>\n",
       "      <td>1000</td>\n",
       "      <td>1.0</td>\n",
       "      <td>1.0</td>\n",
       "      <td>1.0</td>\n",
       "      <td>1.0</td>\n",
       "    </tr>\n",
       "  </tbody>\n",
       "</table>\n",
       "<p>1000 rows × 5 columns</p>\n",
       "</div>"
      ],
      "text/plain": [
       "     user_id  action_count_enter_bot  action_count_enter_webinar_room  \\\n",
       "0          1                     1.0                              1.0   \n",
       "1          2                     1.0                              0.0   \n",
       "2          3                     1.0                              0.0   \n",
       "3          4                     1.0                              0.0   \n",
       "4          5                     1.0                              0.0   \n",
       "..       ...                     ...                              ...   \n",
       "995      996                     2.0                              0.0   \n",
       "996      997                     1.0                              0.0   \n",
       "997      998                     1.0                              0.0   \n",
       "998      999                     1.0                              0.0   \n",
       "999     1000                     1.0                              1.0   \n",
       "\n",
       "     action_count_leave_webinar_room  action_count_make_order  \n",
       "0                                1.0                      0.0  \n",
       "1                                0.0                      0.0  \n",
       "2                                0.0                      0.0  \n",
       "3                                0.0                      0.0  \n",
       "4                                0.0                      0.0  \n",
       "..                               ...                      ...  \n",
       "995                              0.0                      0.0  \n",
       "996                              0.0                      0.0  \n",
       "997                              0.0                      0.0  \n",
       "998                              0.0                      0.0  \n",
       "999                              1.0                      1.0  \n",
       "\n",
       "[1000 rows x 5 columns]"
      ]
     },
     "execution_count": 86,
     "metadata": {},
     "output_type": "execute_result"
    }
   ],
   "source": [
    "pivot = user_action_stats.pivot_table(\n",
    "    index='user_id',\n",
    "    columns='action',\n",
    "    values=['action_count'],\n",
    "    aggfunc='first' # в целом неважно, там по 1 строчке на каждого пользователя и каждое действие\n",
    ")\n",
    "\n",
    "pivot.columns = [f'{val}_{act}' for val, act in pivot.columns]\n",
    "pivot = pivot.reset_index()\n",
    "pivot.fillna(0, inplace = True)\n",
    "pivot"
   ]
  },
  {
   "cell_type": "code",
   "execution_count": 84,
   "metadata": {},
   "outputs": [
    {
     "data": {
      "image/png": "[encoded data removed]",
      "text/plain": [
       "<Figure size 640x480 with 1 Axes>"
      ]
     },
     "metadata": {},
     "output_type": "display_data"
    },
    {
     "data": {
      "image/png": "[encoded data removed]",
      "text/plain": [
       "<Figure size 640x480 with 1 Axes>"
      ]
     },
     "metadata": {},
     "output_type": "display_data"
    },
    {
     "data": {
      "image/png": "[encoded data removed]",
      "text/plain": [
       "<Figure size 640x480 with 1 Axes>"
      ]
     },
     "metadata": {},
     "output_type": "display_data"
    },
    {
     "data": {
      "image/png": "[encoded data removed]",
      "text/plain": [
       "<Figure size 640x480 with 1 Axes>"
      ]
     },
     "metadata": {},
     "output_type": "display_data"
    }
   ],
   "source": [
    "for col in pivot.columns:\n",
    "    if col == 'user_id':\n",
    "        continue  # Пропустить user_id column\n",
    "    plt.figure()\n",
    "    sns.histplot(pivot[col].dropna(), bins=10, kde=True)\n",
    "    plt.title(f'Гистограмма of {col}')\n",
    "    plt.xlabel(col)\n",
    "    plt.ylabel('Частота')\n",
    "    plt.show()"
   ]
  },
  {
   "cell_type": "markdown",
   "metadata": {},
   "source": [
    "Видим, что пользователи заходят в бота максимум 2 раза. Поэтому если бот перегружен сообщениями (их больше 2 на пользователя), то мы видим некоторое подтверждение гипотезы, что пользователей надо пушить менее активно: вероятно, они перегреты, поэтому перестают читать бота и/или ставят его на мьют. Для более точного ответа на этот вопрос необходимо сопоставить количество сообщений от бота на пользователя с количеством открываний бота пользователем."
   ]
  },
  {
   "cell_type": "code",
   "execution_count": 82,
   "metadata": {},
   "outputs": [
    {
     "name": "stderr",
     "output_type": "stream",
     "text": [
      "C:\\Users\\leschuk\\AppData\\Local\\Temp\\ipykernel_18864\\3999099302.py:5: SettingWithCopyWarning: \n",
      "A value is trying to be set on a copy of a slice from a DataFrame.\n",
      "Try using .loc[row_indexer,col_indexer] = value instead\n",
      "\n",
      "See the caveats in the documentation: https://pandas.pydata.org/pandas-docs/stable/user_guide/indexing.html#returning-a-view-versus-a-copy\n",
      "  filtered['time_span_hours'] = filtered['time_span'].dt.total_seconds()/3600\n"
     ]
    },
    {
     "data": {
      "image/png": "[encoded data removed]",
      "text/plain": [
       "<Figure size 800x500 with 1 Axes>"
      ]
     },
     "metadata": {},
     "output_type": "display_data"
    }
   ],
   "source": [
    "# Фильтруем данные\n",
    "filtered = user_action_stats.query('(action == \"enter_bot\") & (time_span > @pd.Timedelta(0))')\n",
    "\n",
    "# Конвертируем time_span в часы\n",
    "filtered['time_span_hours'] = filtered['time_span'].dt.total_seconds()/3600\n",
    "\n",
    "# Рисуем гистограмму\n",
    "plt.figure(figsize=(8, 5))\n",
    "sns.histplot(filtered['time_span_hours'], bins=20, kde=True)\n",
    "plt.title('Гистограмма распределения часов между двумя заходами в бота для пользователей, которые заходили в бота 2 раза')\n",
    "plt.xlabel('Промежуток между заходами в бота (ч)')\n",
    "plt.ylabel('Частота')\n",
    "plt.show()"
   ]
  },
  {
   "cell_type": "markdown",
   "metadata": {},
   "source": [
    "По распределению времени захода в бота ничего определенного сказать нельзя, распределение не похоже на нормальное."
   ]
  },
  {
   "cell_type": "markdown",
   "metadata": {},
   "source": [
    "#### 2. Заход в вебинар -> выход из вебинара"
   ]
  },
  {
   "cell_type": "code",
   "execution_count": 89,
   "metadata": {},
   "outputs": [
    {
     "data": {
      "text/plain": [
       "np.float64(4392.0)"
      ]
     },
     "execution_count": 89,
     "metadata": {},
     "output_type": "execute_result"
    }
   ],
   "source": [
    "# Построим график распределения времени просмотра вебинара. Для этого подготовим данные\n",
    "#Т.к. пользователь может переподключаться к вебинару (мы видели больше 1 захода на вебинар в данных), берем минимум\n",
    "enter_times = df[df['action'] == 'enter_webinar_room'].groupby('user_id')['created_at'].min().reset_index()\n",
    "enter_times = enter_times.rename(columns={'created_at': 'enter_time'})\n",
    "\n",
    "#Т.к. пользователь может переподключаться к вебинару (мы видели больше 1 захода на вебинар в данных), берем максимум (последний выход)\n",
    "leave_times = df[df['action'] == 'leave_webinar_room'].groupby('user_id')['created_at'].max().reset_index()\n",
    "leave_times = leave_times.rename(columns={'created_at': 'leave_time'})\n",
    "\n",
    "# Соединяем датафреймы\n",
    "webinar_times = pd.merge(enter_times, leave_times, on='user_id', how='inner')\n",
    "\n",
    "# Считаем время просмотра вебинара\n",
    "webinar_times['duration_minutes'] = (webinar_times['leave_time'] - webinar_times['enter_time']).dt.total_seconds() / 60"
   ]
  },
  {
   "cell_type": "code",
   "execution_count": 92,
   "metadata": {},
   "outputs": [],
   "source": [
    "users_with_two_enters = pivot.query('action_count_enter_webinar_room > 1').user_id"
   ]
  },
  {
   "cell_type": "code",
   "execution_count": 94,
   "metadata": {},
   "outputs": [
    {
     "data": {
      "text/plain": [
       "<Axes: >"
      ]
     },
     "execution_count": 94,
     "metadata": {},
     "output_type": "execute_result"
    },
    {
     "data": {
      "image/png": "[encoded data removed]",
      "text/plain": [
       "<Figure size 640x480 with 1 Axes>"
      ]
     },
     "metadata": {},
     "output_type": "display_data"
    }
   ],
   "source": [
    "webinar_times.query(\"user_id in @users_with_two_enters\").duration_minutes.hist()"
   ]
  },
  {
   "cell_type": "markdown",
   "metadata": {},
   "source": [
    "Видим, что для части пользователей время между первым входом и последним выходом с вебинара явно больше, чем продолжительность вебинара (допустим, 2 часа). Соответственно, почти наверное это лояльные пользователи, которые посетили несколько вебинаров или пользователи, которые в первый раз не смогли посмотреть вебинар, поэтому подключились на следующий. "
   ]
  },
  {
   "cell_type": "code",
   "execution_count": 99,
   "metadata": {},
   "outputs": [],
   "source": [
    "users_with_two_webinars = webinar_times.query('(user_id in @users_with_two_enters)&(duration_minutes>120)').user_id"
   ]
  },
  {
   "cell_type": "code",
   "execution_count": 102,
   "metadata": {},
   "outputs": [],
   "source": [
    "two_webinars = df.query('(action in (\"enter_webinar_room\", \"leave_webinar_room\"))&(user_id in @users_with_two_webinars)')"
   ]
  },
  {
   "cell_type": "code",
   "execution_count": 103,
   "metadata": {},
   "outputs": [
    {
     "data": {
      "text/html": [
       "<div>\n",
       "<style scoped>\n",
       "    .dataframe tbody tr th:only-of-type {\n",
       "        vertical-align: middle;\n",
       "    }\n",
       "\n",
       "    .dataframe tbody tr th {\n",
       "        vertical-align: top;\n",
       "    }\n",
       "\n",
       "    .dataframe thead th {\n",
       "        text-align: right;\n",
       "    }\n",
       "</style>\n",
       "<table border=\"1\" class=\"dataframe\">\n",
       "  <thead>\n",
       "    <tr style=\"text-align: right;\">\n",
       "      <th></th>\n",
       "      <th>user_id</th>\n",
       "      <th>action</th>\n",
       "      <th>created_at</th>\n",
       "    </tr>\n",
       "  </thead>\n",
       "  <tbody>\n",
       "    <tr>\n",
       "      <th>878</th>\n",
       "      <td>430</td>\n",
       "      <td>enter_webinar_room</td>\n",
       "      <td>2025-05-22 18:07:00</td>\n",
       "    </tr>\n",
       "    <tr>\n",
       "      <th>879</th>\n",
       "      <td>430</td>\n",
       "      <td>leave_webinar_room</td>\n",
       "      <td>2025-05-22 18:22:00</td>\n",
       "    </tr>\n",
       "    <tr>\n",
       "      <th>882</th>\n",
       "      <td>430</td>\n",
       "      <td>enter_webinar_room</td>\n",
       "      <td>2025-05-24 18:49:00</td>\n",
       "    </tr>\n",
       "    <tr>\n",
       "      <th>883</th>\n",
       "      <td>430</td>\n",
       "      <td>leave_webinar_room</td>\n",
       "      <td>2025-05-24 19:17:00</td>\n",
       "    </tr>\n",
       "    <tr>\n",
       "      <th>1756</th>\n",
       "      <td>834</td>\n",
       "      <td>enter_webinar_room</td>\n",
       "      <td>2025-05-30 18:22:00</td>\n",
       "    </tr>\n",
       "    <tr>\n",
       "      <th>1757</th>\n",
       "      <td>834</td>\n",
       "      <td>leave_webinar_room</td>\n",
       "      <td>2025-05-30 18:33:00</td>\n",
       "    </tr>\n",
       "    <tr>\n",
       "      <th>1759</th>\n",
       "      <td>834</td>\n",
       "      <td>enter_webinar_room</td>\n",
       "      <td>2025-05-31 19:48:00</td>\n",
       "    </tr>\n",
       "    <tr>\n",
       "      <th>1760</th>\n",
       "      <td>834</td>\n",
       "      <td>leave_webinar_room</td>\n",
       "      <td>2025-05-31 19:52:00</td>\n",
       "    </tr>\n",
       "    <tr>\n",
       "      <th>1996</th>\n",
       "      <td>953</td>\n",
       "      <td>enter_webinar_room</td>\n",
       "      <td>2025-05-17 18:06:00</td>\n",
       "    </tr>\n",
       "    <tr>\n",
       "      <th>1997</th>\n",
       "      <td>953</td>\n",
       "      <td>leave_webinar_room</td>\n",
       "      <td>2025-05-17 19:16:00</td>\n",
       "    </tr>\n",
       "    <tr>\n",
       "      <th>1999</th>\n",
       "      <td>953</td>\n",
       "      <td>enter_webinar_room</td>\n",
       "      <td>2025-05-20 18:48:00</td>\n",
       "    </tr>\n",
       "    <tr>\n",
       "      <th>2000</th>\n",
       "      <td>953</td>\n",
       "      <td>leave_webinar_room</td>\n",
       "      <td>2025-05-20 19:18:00</td>\n",
       "    </tr>\n",
       "    <tr>\n",
       "      <th>2040</th>\n",
       "      <td>971</td>\n",
       "      <td>enter_webinar_room</td>\n",
       "      <td>2025-05-17 19:46:00</td>\n",
       "    </tr>\n",
       "    <tr>\n",
       "      <th>2041</th>\n",
       "      <td>971</td>\n",
       "      <td>leave_webinar_room</td>\n",
       "      <td>2025-05-17 19:55:00</td>\n",
       "    </tr>\n",
       "    <tr>\n",
       "      <th>2044</th>\n",
       "      <td>971</td>\n",
       "      <td>enter_webinar_room</td>\n",
       "      <td>2025-05-20 19:27:00</td>\n",
       "    </tr>\n",
       "    <tr>\n",
       "      <th>2045</th>\n",
       "      <td>971</td>\n",
       "      <td>leave_webinar_room</td>\n",
       "      <td>2025-05-20 19:45:00</td>\n",
       "    </tr>\n",
       "    <tr>\n",
       "      <th>2075</th>\n",
       "      <td>982</td>\n",
       "      <td>enter_webinar_room</td>\n",
       "      <td>2025-05-01 18:39:00</td>\n",
       "    </tr>\n",
       "    <tr>\n",
       "      <th>2076</th>\n",
       "      <td>982</td>\n",
       "      <td>leave_webinar_room</td>\n",
       "      <td>2025-05-01 19:47:00</td>\n",
       "    </tr>\n",
       "    <tr>\n",
       "      <th>2078</th>\n",
       "      <td>982</td>\n",
       "      <td>enter_webinar_room</td>\n",
       "      <td>2025-05-03 19:15:00</td>\n",
       "    </tr>\n",
       "    <tr>\n",
       "      <th>2079</th>\n",
       "      <td>982</td>\n",
       "      <td>leave_webinar_room</td>\n",
       "      <td>2025-05-03 19:18:00</td>\n",
       "    </tr>\n",
       "  </tbody>\n",
       "</table>\n",
       "</div>"
      ],
      "text/plain": [
       "      user_id              action          created_at\n",
       "878       430  enter_webinar_room 2025-05-22 18:07:00\n",
       "879       430  leave_webinar_room 2025-05-22 18:22:00\n",
       "882       430  enter_webinar_room 2025-05-24 18:49:00\n",
       "883       430  leave_webinar_room 2025-05-24 19:17:00\n",
       "1756      834  enter_webinar_room 2025-05-30 18:22:00\n",
       "1757      834  leave_webinar_room 2025-05-30 18:33:00\n",
       "1759      834  enter_webinar_room 2025-05-31 19:48:00\n",
       "1760      834  leave_webinar_room 2025-05-31 19:52:00\n",
       "1996      953  enter_webinar_room 2025-05-17 18:06:00\n",
       "1997      953  leave_webinar_room 2025-05-17 19:16:00\n",
       "1999      953  enter_webinar_room 2025-05-20 18:48:00\n",
       "2000      953  leave_webinar_room 2025-05-20 19:18:00\n",
       "2040      971  enter_webinar_room 2025-05-17 19:46:00\n",
       "2041      971  leave_webinar_room 2025-05-17 19:55:00\n",
       "2044      971  enter_webinar_room 2025-05-20 19:27:00\n",
       "2045      971  leave_webinar_room 2025-05-20 19:45:00\n",
       "2075      982  enter_webinar_room 2025-05-01 18:39:00\n",
       "2076      982  leave_webinar_room 2025-05-01 19:47:00\n",
       "2078      982  enter_webinar_room 2025-05-03 19:15:00\n",
       "2079      982  leave_webinar_room 2025-05-03 19:18:00"
      ]
     },
     "execution_count": 103,
     "metadata": {},
     "output_type": "execute_result"
    }
   ],
   "source": [
    "two_webinars"
   ]
  },
  {
   "cell_type": "markdown",
   "metadata": {},
   "source": [
    "Отсмотрев данные глазами, видим, что скорее всего пользователи 430, 971 -- это пользователи, которые не успели посмотреть первый вебинар и подключились на второй. Пользователь 834 не успел посмотреть ни одной из вебинаров (или ему не понравился ни один из вебинаров), пользователи 982 и 953 - это наши лояльники. В любом случае, возьмем для них продолжительность просмотра равную максимальной продолжительности просмотра вебинара "
   ]
  },
  {
   "cell_type": "code",
   "execution_count": 104,
   "metadata": {},
   "outputs": [
    {
     "name": "stdout",
     "output_type": "stream",
     "text": [
      "         max_timedelta_minutes\n",
      "user_id                       \n",
      "430                       28.0\n",
      "834                       11.0\n",
      "953                       70.0\n",
      "971                       18.0\n",
      "982                       68.0\n"
     ]
    }
   ],
   "source": [
    "# Получаем мин и макс\n",
    "agg = two_webinars.groupby(['user_id', 'action'])['created_at'].agg(['min', 'max']).unstack('action')\n",
    "\n",
    "# Считаем время, проведенное на первом и на втором вебинаре\n",
    "min_delta = (agg['min', 'enter_webinar_room'] - agg['min', 'leave_webinar_room']).abs()\n",
    "max_delta = (agg['max', 'enter_webinar_room'] - agg['max', 'leave_webinar_room']).abs()\n",
    "\n",
    "# Берем максимум, конвертируем в минуты\n",
    "result = pd.DataFrame({\n",
    "    'max_timedelta_minutes': pd.concat([min_delta, max_delta], axis=1).max(axis=1).dt.total_seconds() / 60\n",
    "})\n",
    "\n",
    "print(result)"
   ]
  },
  {
   "cell_type": "code",
   "execution_count": 108,
   "metadata": {},
   "outputs": [
    {
     "data": {
      "text/plain": [
       "count    382.000000\n",
       "mean      33.306283\n",
       "std       29.929803\n",
       "min        0.000000\n",
       "25%        8.000000\n",
       "50%       23.000000\n",
       "75%       53.750000\n",
       "max      115.000000\n",
       "Name: duration_minutes, dtype: float64"
      ]
     },
     "execution_count": 108,
     "metadata": {},
     "output_type": "execute_result"
    }
   ],
   "source": [
    "#Поправим датафрейм с временем просмотра вебинара\n",
    "webinar_times_updated = webinar_times.copy()\n",
    "\n",
    "result_reset = result.reset_index()\n",
    "\n",
    "webinar_times_updated = webinar_times_updated.merge(\n",
    "    result_reset[['user_id', 'max_timedelta_minutes']],\n",
    "    on='user_id',\n",
    "    how='left'\n",
    ")\n",
    "\n",
    "webinar_times_updated['duration_minutes'] = webinar_times_updated['max_timedelta_minutes'].combine_first(webinar_times_updated['duration_minutes'])\n",
    "\n",
    "webinar_times_updated = webinar_times_updated.drop(columns=['max_timedelta_minutes'])\n",
    "\n",
    "webinar_times_updated.duration_minutes.describe()"
   ]
  },
  {
   "cell_type": "code",
   "execution_count": 114,
   "metadata": {},
   "outputs": [
    {
     "data": {
      "image/png": "[encoded data removed]",
      "text/plain": [
       "<Figure size 800x500 with 1 Axes>"
      ]
     },
     "metadata": {},
     "output_type": "display_data"
    }
   ],
   "source": [
    "plt.figure(figsize=(8, 5))\n",
    "sns.histplot(webinar_times_updated['duration_minutes'].dropna(), bins=20, kde=True)\n",
    "plt.title('График проходимости вебинара')\n",
    "plt.xlabel('Время присутствия на вебинаре в минутах')\n",
    "plt.ylabel('Частота')\n",
    "plt.show()"
   ]
  },
  {
   "cell_type": "markdown",
   "metadata": {},
   "source": [
    "По графику видим относительно нормальный график проходимости вебинара, тем не менее, подсветим несколько интересных моментов."
   ]
  },
  {
   "cell_type": "code",
   "execution_count": 117,
   "metadata": {},
   "outputs": [
    {
     "name": "stdout",
     "output_type": "stream",
     "text": [
      "7\n"
     ]
    }
   ],
   "source": [
    "print(webinar_times_updated.query('duration_minutes<1').user_id.nunique())"
   ]
  },
  {
   "cell_type": "markdown",
   "metadata": {},
   "source": [
    "7 пользователей (2% участников) не пробыли на вебинаре и минуты. Вероятно, у них возникли технические проблемы. Этих юзеров как раз и можно отловить триггером \"пробыл на вебинаре меньше минуты\" и пушить их в бот вопросом, все ли нормально по технической части. Не самая приоритетная гипотеза, но часть лидов нам сохранит"
   ]
  },
  {
   "cell_type": "code",
   "execution_count": 116,
   "metadata": {},
   "outputs": [
    {
     "name": "stdout",
     "output_type": "stream",
     "text": [
      "178\n"
     ]
    }
   ],
   "source": [
    "print(webinar_times_updated.query('duration_minutes<20').user_id.nunique())"
   ]
  },
  {
   "cell_type": "markdown",
   "metadata": {},
   "source": [
    "Почти половина пользователей отваливаются через 20 минут вебинара (когда примерно первый раз отвлекается внимание по психологическим причинам). За этим могут стоять 2 гипотезы, выдвинутые нами ранее: 1) надо работать над качеством лекции (соответственно, уменьшать долю отвала); 2) надо приводить больше целевых лидов на лендинг и работать с ним (потестировать разные лендинги и посмотреть, спросить у отвалившихся пользователей, почему они отвалились перед этим)"
   ]
  },
  {
   "cell_type": "markdown",
   "metadata": {},
   "source": [
    "#### 3. Заход в вебинар -> Бронь на скидку"
   ]
  },
  {
   "cell_type": "code",
   "execution_count": 118,
   "metadata": {},
   "outputs": [
    {
     "data": {
      "image/png": "[encoded data removed]",
      "text/plain": [
       "<Figure size 800x500 with 1 Axes>"
      ]
     },
     "metadata": {},
     "output_type": "display_data"
    }
   ],
   "source": [
    "# А теперь построим такую же гистограмму проходимости по клиентам, которые у нас заказ сделали\n",
    "orders_users = pivot.query('action_count_make_order > 0').user_id\n",
    "plt.figure(figsize=(8, 5))\n",
    "sns.histplot(webinar_times_updated.query('user_id in @orders_users')['duration_minutes'].dropna(), bins=20, kde=True)\n",
    "plt.title('График проходимости вебинара')\n",
    "plt.xlabel('Время присутствия на вебинаре в минутах')\n",
    "plt.ylabel('Частота')\n",
    "plt.show()"
   ]
  },
  {
   "cell_type": "markdown",
   "metadata": {},
   "source": [
    "Видим, что наши итоговые клиенты смотрят вебинар дольше, поэтому работать над проходимостью вебинара оправданно. На всякий случай проверим это тестом Манна-Уитни (выборка небольшая, лучше сравнивать медианы, а не средние значения)"
   ]
  },
  {
   "cell_type": "code",
   "execution_count": 130,
   "metadata": {},
   "outputs": [
    {
     "name": "stdout",
     "output_type": "stream",
     "text": [
      "Mann-Whitney U statistic: 3438.5\n",
      "P-value: 0.726097578490096\n",
      "Разница не значима (p >= 0.05).\n"
     ]
    }
   ],
   "source": [
    "# Делим на 2 группы\n",
    "group1 = webinar_times_updated.query('user_id in @orders_users')['duration_minutes'].dropna()\n",
    "group2 = webinar_times_updated.query('user_id not in @orders_users')['duration_minutes'].dropna()\n",
    "\n",
    "# Считаем тест. Exact, т.к. наблюдений мало\n",
    "stat, p_value = mannwhitneyu(group1, group2, alternative='two-sided', method = 'exact')\n",
    "\n",
    "print(f\"Mann-Whitney U statistic: {stat}\")\n",
    "print(f\"P-value: {p_value}\")\n",
    "\n",
    "if p_value < 0.05:\n",
    "    print(\"Разница значима (p < 0.05).\")\n",
    "else:\n",
    "    print(\"Разница не значима (p >= 0.05).\")"
   ]
  },
  {
   "cell_type": "markdown",
   "metadata": {},
   "source": [
    "Не получили должного подтверждения нашей гипотезе, поэтому слишком много бюджета инвестировать в качество вебинара не стоит. В любом случае это надо перепроверить на более крупной выборке юзеров, используя уже t-test, наша выборка очень мала, поэтому тесту могло не хватить мощности."
   ]
  },
  {
   "cell_type": "code",
   "execution_count": 132,
   "metadata": {},
   "outputs": [
    {
     "data": {
      "text/html": [
       "<div>\n",
       "<style scoped>\n",
       "    .dataframe tbody tr th:only-of-type {\n",
       "        vertical-align: middle;\n",
       "    }\n",
       "\n",
       "    .dataframe tbody tr th {\n",
       "        vertical-align: top;\n",
       "    }\n",
       "\n",
       "    .dataframe thead th {\n",
       "        text-align: right;\n",
       "    }\n",
       "</style>\n",
       "<table border=\"1\" class=\"dataframe\">\n",
       "  <thead>\n",
       "    <tr style=\"text-align: right;\">\n",
       "      <th></th>\n",
       "      <th>user_id</th>\n",
       "      <th>action_count_enter_bot</th>\n",
       "      <th>action_count_enter_webinar_room</th>\n",
       "      <th>action_count_leave_webinar_room</th>\n",
       "      <th>action_count_make_order</th>\n",
       "    </tr>\n",
       "  </thead>\n",
       "  <tbody>\n",
       "    <tr>\n",
       "      <th>429</th>\n",
       "      <td>430</td>\n",
       "      <td>2.0</td>\n",
       "      <td>2.0</td>\n",
       "      <td>2.0</td>\n",
       "      <td>1.0</td>\n",
       "    </tr>\n",
       "    <tr>\n",
       "      <th>833</th>\n",
       "      <td>834</td>\n",
       "      <td>2.0</td>\n",
       "      <td>2.0</td>\n",
       "      <td>2.0</td>\n",
       "      <td>0.0</td>\n",
       "    </tr>\n",
       "    <tr>\n",
       "      <th>952</th>\n",
       "      <td>953</td>\n",
       "      <td>2.0</td>\n",
       "      <td>2.0</td>\n",
       "      <td>2.0</td>\n",
       "      <td>0.0</td>\n",
       "    </tr>\n",
       "    <tr>\n",
       "      <th>970</th>\n",
       "      <td>971</td>\n",
       "      <td>2.0</td>\n",
       "      <td>2.0</td>\n",
       "      <td>2.0</td>\n",
       "      <td>1.0</td>\n",
       "    </tr>\n",
       "    <tr>\n",
       "      <th>981</th>\n",
       "      <td>982</td>\n",
       "      <td>2.0</td>\n",
       "      <td>2.0</td>\n",
       "      <td>2.0</td>\n",
       "      <td>0.0</td>\n",
       "    </tr>\n",
       "  </tbody>\n",
       "</table>\n",
       "</div>"
      ],
      "text/plain": [
       "     user_id  action_count_enter_bot  action_count_enter_webinar_room  \\\n",
       "429      430                     2.0                              2.0   \n",
       "833      834                     2.0                              2.0   \n",
       "952      953                     2.0                              2.0   \n",
       "970      971                     2.0                              2.0   \n",
       "981      982                     2.0                              2.0   \n",
       "\n",
       "     action_count_leave_webinar_room  action_count_make_order  \n",
       "429                              2.0                      1.0  \n",
       "833                              2.0                      0.0  \n",
       "952                              2.0                      0.0  \n",
       "970                              2.0                      1.0  \n",
       "981                              2.0                      0.0  "
      ]
     },
     "execution_count": 132,
     "metadata": {},
     "output_type": "execute_result"
    }
   ],
   "source": [
    "pivot.query('user_id in @users_with_two_webinars')"
   ]
  },
  {
   "cell_type": "code",
   "execution_count": 133,
   "metadata": {},
   "outputs": [
    {
     "data": {
      "text/html": [
       "<div>\n",
       "<style scoped>\n",
       "    .dataframe tbody tr th:only-of-type {\n",
       "        vertical-align: middle;\n",
       "    }\n",
       "\n",
       "    .dataframe tbody tr th {\n",
       "        vertical-align: top;\n",
       "    }\n",
       "\n",
       "    .dataframe thead th {\n",
       "        text-align: right;\n",
       "    }\n",
       "</style>\n",
       "<table border=\"1\" class=\"dataframe\">\n",
       "  <thead>\n",
       "    <tr style=\"text-align: right;\">\n",
       "      <th></th>\n",
       "      <th>user_id</th>\n",
       "      <th>action</th>\n",
       "      <th>created_at</th>\n",
       "    </tr>\n",
       "  </thead>\n",
       "  <tbody>\n",
       "    <tr>\n",
       "      <th>878</th>\n",
       "      <td>430</td>\n",
       "      <td>enter_webinar_room</td>\n",
       "      <td>2025-05-22 18:07:00</td>\n",
       "    </tr>\n",
       "    <tr>\n",
       "      <th>879</th>\n",
       "      <td>430</td>\n",
       "      <td>leave_webinar_room</td>\n",
       "      <td>2025-05-22 18:22:00</td>\n",
       "    </tr>\n",
       "    <tr>\n",
       "      <th>882</th>\n",
       "      <td>430</td>\n",
       "      <td>enter_webinar_room</td>\n",
       "      <td>2025-05-24 18:49:00</td>\n",
       "    </tr>\n",
       "    <tr>\n",
       "      <th>883</th>\n",
       "      <td>430</td>\n",
       "      <td>leave_webinar_room</td>\n",
       "      <td>2025-05-24 19:17:00</td>\n",
       "    </tr>\n",
       "    <tr>\n",
       "      <th>1756</th>\n",
       "      <td>834</td>\n",
       "      <td>enter_webinar_room</td>\n",
       "      <td>2025-05-30 18:22:00</td>\n",
       "    </tr>\n",
       "    <tr>\n",
       "      <th>1757</th>\n",
       "      <td>834</td>\n",
       "      <td>leave_webinar_room</td>\n",
       "      <td>2025-05-30 18:33:00</td>\n",
       "    </tr>\n",
       "    <tr>\n",
       "      <th>1759</th>\n",
       "      <td>834</td>\n",
       "      <td>enter_webinar_room</td>\n",
       "      <td>2025-05-31 19:48:00</td>\n",
       "    </tr>\n",
       "    <tr>\n",
       "      <th>1760</th>\n",
       "      <td>834</td>\n",
       "      <td>leave_webinar_room</td>\n",
       "      <td>2025-05-31 19:52:00</td>\n",
       "    </tr>\n",
       "    <tr>\n",
       "      <th>1996</th>\n",
       "      <td>953</td>\n",
       "      <td>enter_webinar_room</td>\n",
       "      <td>2025-05-17 18:06:00</td>\n",
       "    </tr>\n",
       "    <tr>\n",
       "      <th>1997</th>\n",
       "      <td>953</td>\n",
       "      <td>leave_webinar_room</td>\n",
       "      <td>2025-05-17 19:16:00</td>\n",
       "    </tr>\n",
       "    <tr>\n",
       "      <th>1999</th>\n",
       "      <td>953</td>\n",
       "      <td>enter_webinar_room</td>\n",
       "      <td>2025-05-20 18:48:00</td>\n",
       "    </tr>\n",
       "    <tr>\n",
       "      <th>2000</th>\n",
       "      <td>953</td>\n",
       "      <td>leave_webinar_room</td>\n",
       "      <td>2025-05-20 19:18:00</td>\n",
       "    </tr>\n",
       "    <tr>\n",
       "      <th>2040</th>\n",
       "      <td>971</td>\n",
       "      <td>enter_webinar_room</td>\n",
       "      <td>2025-05-17 19:46:00</td>\n",
       "    </tr>\n",
       "    <tr>\n",
       "      <th>2041</th>\n",
       "      <td>971</td>\n",
       "      <td>leave_webinar_room</td>\n",
       "      <td>2025-05-17 19:55:00</td>\n",
       "    </tr>\n",
       "    <tr>\n",
       "      <th>2044</th>\n",
       "      <td>971</td>\n",
       "      <td>enter_webinar_room</td>\n",
       "      <td>2025-05-20 19:27:00</td>\n",
       "    </tr>\n",
       "    <tr>\n",
       "      <th>2045</th>\n",
       "      <td>971</td>\n",
       "      <td>leave_webinar_room</td>\n",
       "      <td>2025-05-20 19:45:00</td>\n",
       "    </tr>\n",
       "    <tr>\n",
       "      <th>2075</th>\n",
       "      <td>982</td>\n",
       "      <td>enter_webinar_room</td>\n",
       "      <td>2025-05-01 18:39:00</td>\n",
       "    </tr>\n",
       "    <tr>\n",
       "      <th>2076</th>\n",
       "      <td>982</td>\n",
       "      <td>leave_webinar_room</td>\n",
       "      <td>2025-05-01 19:47:00</td>\n",
       "    </tr>\n",
       "    <tr>\n",
       "      <th>2078</th>\n",
       "      <td>982</td>\n",
       "      <td>enter_webinar_room</td>\n",
       "      <td>2025-05-03 19:15:00</td>\n",
       "    </tr>\n",
       "    <tr>\n",
       "      <th>2079</th>\n",
       "      <td>982</td>\n",
       "      <td>leave_webinar_room</td>\n",
       "      <td>2025-05-03 19:18:00</td>\n",
       "    </tr>\n",
       "  </tbody>\n",
       "</table>\n",
       "</div>"
      ],
      "text/plain": [
       "      user_id              action          created_at\n",
       "878       430  enter_webinar_room 2025-05-22 18:07:00\n",
       "879       430  leave_webinar_room 2025-05-22 18:22:00\n",
       "882       430  enter_webinar_room 2025-05-24 18:49:00\n",
       "883       430  leave_webinar_room 2025-05-24 19:17:00\n",
       "1756      834  enter_webinar_room 2025-05-30 18:22:00\n",
       "1757      834  leave_webinar_room 2025-05-30 18:33:00\n",
       "1759      834  enter_webinar_room 2025-05-31 19:48:00\n",
       "1760      834  leave_webinar_room 2025-05-31 19:52:00\n",
       "1996      953  enter_webinar_room 2025-05-17 18:06:00\n",
       "1997      953  leave_webinar_room 2025-05-17 19:16:00\n",
       "1999      953  enter_webinar_room 2025-05-20 18:48:00\n",
       "2000      953  leave_webinar_room 2025-05-20 19:18:00\n",
       "2040      971  enter_webinar_room 2025-05-17 19:46:00\n",
       "2041      971  leave_webinar_room 2025-05-17 19:55:00\n",
       "2044      971  enter_webinar_room 2025-05-20 19:27:00\n",
       "2045      971  leave_webinar_room 2025-05-20 19:45:00\n",
       "2075      982  enter_webinar_room 2025-05-01 18:39:00\n",
       "2076      982  leave_webinar_room 2025-05-01 19:47:00\n",
       "2078      982  enter_webinar_room 2025-05-03 19:15:00\n",
       "2079      982  leave_webinar_room 2025-05-03 19:18:00"
      ]
     },
     "execution_count": 133,
     "metadata": {},
     "output_type": "execute_result"
    }
   ],
   "source": [
    "two_webinars"
   ]
  },
  {
   "cell_type": "markdown",
   "metadata": {},
   "source": [
    "Возвращаясь к анализу пользователей, посетивших 2 вебинара, видим, что пользователи, которые не успели посмотреть первый вебинар и подключились на второй (выделили именно их на предыдущем этапе анализа) оказались нашими покупателями. Вероятно, можно внедрить еще один триггер. \"Если посмотрели меньше 20 минут вебинара, написать что-то типа \"Видим, что у вас не хватило времени посетить наш вебинар числа X. Следующий вебинар будет числа Y. Хотите прийти? Нажмите кнопку \"Да\" и мы пришлем ссылку\".\n",
    "Так мы покажем, что клиент нам важен и нам реально важно донести до него информацию с вебинара. Учитывая, что отвалившихся за первые 20 минут около из них, часть из них может оказаться теми, кто просто не смог выделить на вебинар нужное количество времени. Их и надо вернуть в нашу воронку."
   ]
  },
  {
   "cell_type": "markdown",
   "metadata": {},
   "source": [
    "#### 4. Итоги анализа"
   ]
  },
  {
   "cell_type": "markdown",
   "metadata": {},
   "source": [
    "1) Мы видим, что наиболее сильно проседает конверсия из вебинара в заказ (38% из реги в вебинар, 5% из вебинара в заказ), на этом этапе воронке и нужно сконцентрироваться, а гипотезам ранее по воронке уделять меньше внимания\n",
    "2) Бот может быть перегрет сообщениями (пользователи заходят в него более 1 раза, но не более 2). Валидировать это данными о количестве сообщений на пользователя. Гипотеза второго приоритета\n",
    "3) 2% участников вебинара отключаются в первую минуту. Возможно, у них технические проблемы, их надо догонять в боте (гипотеза второго приоритета)\n",
    "4) Почти половина пользователей отваливается в первые 20 минут вебинара. Надо посмотреть, что не так с нашим контентом, сделать кастдев, фокус-группы (если недорого). Не слишком много инвестировать в проходимость, т.к. на приведенных данных ее влияние на формирование заказа не подтверждается статистически значимо. Перепроверить эту взаимосвязь на более масштабной выборке.\n",
    "5) Наши лиды могут быть нецелевыми, надо еще раз посмотреть, что конкретно мы продаем на лендинге и привлекает ли это именно наших потенциальных клиентов (гипотеза 2-го приоритета)\n",
    "5) Видим, что пользователи, которые не успели посмотреть первый вебинар и подключились на второй (выделили именно их на предыдущем этапе анализа) оказались нашими покупателями. Можем ввести еще один пуш по триггеру, предлагающий тем, кто рано отключился, посетить еще 1 вебинар) (гипотеза 1-го приоритета)"
   ]
  }
 ],
 "metadata": {
  "kernelspec": {
   "display_name": "Python 3 (ipykernel)",
   "language": "python",
   "name": "python3"
  },
  "language_info": {
   "codemirror_mode": {
    "name": "ipython",
    "version": 3
   },
   "file_extension": ".py",
   "mimetype": "text/x-python",
   "name": "python",
   "nbconvert_exporter": "python",
   "pygments_lexer": "ipython3",
   "version": "3.12.7"
  }
 },
 "nbformat": 4,
 "nbformat_minor": 4
}
